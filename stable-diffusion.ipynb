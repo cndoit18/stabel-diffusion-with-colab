{
  "cells": [
    {
      "cell_type": "markdown",
      "source": [
        "# Setup the web ui"
      ],
      "metadata": {
        "id": "jahcCfWG04G1"
      }
    },
    {
      "cell_type": "code",
      "execution_count": null,
      "metadata": {
        "id": "6yhU4gN-x89G"
      },
      "outputs": [],
      "source": [
        "!git init && git remote add origin https://github.com/AUTOMATIC1111/stable-diffusion-webui && git fetch --all && git reset --hard origin/master\n",
        "!git clone https://github.com/yfszzx/stable-diffusion-webui-images-browser extensions/stable-diffusion-webui-images-browser\n",
        "\n",
        "# Model(s) setup\n",
        "# Below are model code for ChilloutMix, we always could change it to our desired model (how-to: https://youtu.be/vj-QrS_mWQI or https://youtu.be/MwyfwPFezvY)\n",
        "!curl -Lo models/Stable-diffusion/chilloutmixni.safetensors --create-dirs https://huggingface.co/TASUKU2023/Chilloutmix/resolve/main/Chilloutmix.safetensors\n",
        "!curl -Lo models/Lora/koreanDollLikeness_v10.safetensors --create-dirs https://huggingface.co/nolanaatama/kdllora/resolve/main/kdllora.safetensors\n",
        "\n",
        "# Additional embeddings\n",
        "!curl -Lo embeddings/ulzzang-6500.pt --create-dirs https://huggingface.co/nolanaatama/chomni/resolve/main/ulzzang-6500.pt\n",
        "\n",
        "!COMMANDLINE_ARGS=\"--share --disable-safe-unpickle --no-half-vae --xformers --reinstall-xformers --enable-insecure-extension-access\" REQS_FILE=\"requirements_versions.txt\" python launch.py"
      ]
    }
  ],
  "metadata": {
    "language_info": {
      "name": "python"
    },
    "orig_nbformat": 4,
    "colab": {
      "provenance": [],
      "toc_visible": true
    },
    "kernelspec": {
      "name": "python3",
      "display_name": "Python 3"
    },
    "gpuClass": "standard",
    "accelerator": "GPU"
  },
  "nbformat": 4,
  "nbformat_minor": 0
}