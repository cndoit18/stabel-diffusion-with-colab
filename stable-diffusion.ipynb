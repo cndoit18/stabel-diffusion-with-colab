{
  "cells": [
    {
      "cell_type": "markdown",
      "source": [
        "# 1. Setup the web ui"
      ],
      "metadata": {
        "id": "jahcCfWG04G1"
      }
    },
    {
      "cell_type": "code",
      "execution_count": 3,
      "metadata": {
        "id": "6yhU4gN-x89G",
        "outputId": "79e11a29-6b82-478d-a1c2-57abcf7f0e07",
        "colab": {
          "base_uri": "https://localhost:8080/"
        }
      },
      "outputs": [
        {
          "output_type": "stream",
          "name": "stdout",
          "text": [
            "Looking in indexes: https://pypi.org/simple, https://us-python.pkg.dev/colab-wheels/public/simple/\n",
            "Requirement already satisfied: fastapi==0.90.1 in /usr/local/lib/python3.8/dist-packages (0.90.1)\n",
            "Requirement already satisfied: pydantic!=1.7,!=1.7.1,!=1.7.2,!=1.7.3,!=1.8,!=1.8.1,<2.0.0,>=1.6.2 in /usr/local/lib/python3.8/dist-packages (from fastapi==0.90.1) (1.10.5)\n",
            "Requirement already satisfied: starlette<0.24.0,>=0.22.0 in /usr/local/lib/python3.8/dist-packages (from fastapi==0.90.1) (0.23.1)\n",
            "Requirement already satisfied: typing-extensions>=4.2.0 in /usr/local/lib/python3.8/dist-packages (from pydantic!=1.7,!=1.7.1,!=1.7.2,!=1.7.3,!=1.8,!=1.8.1,<2.0.0,>=1.6.2->fastapi==0.90.1) (4.5.0)\n",
            "Requirement already satisfied: anyio<5,>=3.4.0 in /usr/local/lib/python3.8/dist-packages (from starlette<0.24.0,>=0.22.0->fastapi==0.90.1) (3.6.2)\n",
            "Requirement already satisfied: idna>=2.8 in /usr/local/lib/python3.8/dist-packages (from anyio<5,>=3.4.0->starlette<0.24.0,>=0.22.0->fastapi==0.90.1) (2.10)\n",
            "Requirement already satisfied: sniffio>=1.1 in /usr/local/lib/python3.8/dist-packages (from anyio<5,>=3.4.0->starlette<0.24.0,>=0.22.0->fastapi==0.90.1) (1.3.0)\n",
            "Reinitialized existing Git repository in /content/.git/\n",
            "fatal: remote origin already exists.\n",
            "fatal: destination path 'extensions/stable-diffusion-webui-images-browser' already exists and is not an empty directory.\n",
            "  % Total    % Received % Xferd  Average Speed   Time    Time     Time  Current\n",
            "                                 Dload  Upload   Total   Spent    Left  Speed\n",
            "100  1131  100  1131    0     0   4127      0 --:--:-- --:--:-- --:--:--  4127\n",
            "100 7346M  100 7346M    0     0  73.0M      0  0:01:40  0:01:40 --:--:-- 78.0M\n",
            "  % Total    % Received % Xferd  Average Speed   Time    Time     Time  Current\n",
            "                                 Dload  Upload   Total   Spent    Left  Speed\n",
            "100  1121  100  1121    0     0   3749      0 --:--:-- --:--:-- --:--:--  3749\n",
            "100 10155  100 10155    0     0  28130      0 --:--:-- --:--:-- --:--:-- 28130\n",
            "  % Total    % Received % Xferd  Average Speed   Time    Time     Time  Current\n",
            "                                 Dload  Upload   Total   Spent    Left  Speed\n",
            "100  1131  100  1131    0     0   4333      0 --:--:-- --:--:-- --:--:--  4333\n",
            "100  144M  100  144M    0     0   111M      0  0:00:01  0:00:01 --:--:--  165M\n",
            "Python 3.8.10 (default, Nov 14 2022, 12:59:47) \n",
            "[GCC 9.4.0]\n",
            "Commit hash: 0cc0ee1bcb4c24a8c9715f66cede06601bfc00c8\n",
            "Installing gfpgan\n",
            "Installing clip\n",
            "Installing open_clip\n",
            "Installing xformers\n",
            "Cloning Stable Diffusion into repositories/stable-diffusion-stability-ai...\n",
            "Cloning Taming Transformers into repositories/taming-transformers...\n",
            "Cloning K-diffusion into repositories/k-diffusion...\n",
            "Cloning CodeFormer into repositories/CodeFormer...\n",
            "Cloning BLIP into repositories/BLIP...\n",
            "Installing requirements for CodeFormer\n",
            "Installing requirements for Web UI\n",
            "Launching Web UI with arguments: --share --disable-safe-unpickle --no-half-vae --xformers --enable-insecure-extension-access\n",
            "Warning: caught exception 'No CUDA GPUs are available', memory monitor disabled\n",
            "2023-02-23 05:47:06.776318: I tensorflow/core/platform/cpu_feature_guard.cc:193] This TensorFlow binary is optimized with oneAPI Deep Neural Network Library (oneDNN) to use the following CPU instructions in performance-critical operations:  AVX2 FMA\n",
            "To enable them in other operations, rebuild TensorFlow with the appropriate compiler flags.\n",
            "2023-02-23 05:47:09.828413: W tensorflow/compiler/xla/stream_executor/platform/default/dso_loader.cc:64] Could not load dynamic library 'libnvinfer.so.7'; dlerror: libnvinfer.so.7: cannot open shared object file: No such file or directory; LD_LIBRARY_PATH: /usr/local/lib/python3.8/dist-packages/cv2/../../lib64:/usr/local/nvidia/lib:/usr/local/nvidia/lib64\n",
            "2023-02-23 05:47:09.828768: W tensorflow/compiler/xla/stream_executor/platform/default/dso_loader.cc:64] Could not load dynamic library 'libnvinfer_plugin.so.7'; dlerror: libnvinfer_plugin.so.7: cannot open shared object file: No such file or directory; LD_LIBRARY_PATH: /usr/local/lib/python3.8/dist-packages/cv2/../../lib64:/usr/local/nvidia/lib:/usr/local/nvidia/lib64\n",
            "2023-02-23 05:47:09.828797: W tensorflow/compiler/tf2tensorrt/utils/py_utils.cc:38] TF-TRT Warning: Cannot dlopen some TensorRT libraries. If you would like to use Nvidia GPU with TensorRT, please make sure the missing libraries mentioned above are installed properly.\n",
            "Calculating sha256 for /content/models/Stable-diffusion/chilloutmixni.safetensors: a757fe8b3dc64e12fa7aacd14f816e18a80ffab003b05c147d40ef6c6ecb1861\n",
            "Loading weights [a757fe8b3d] from /content/models/Stable-diffusion/chilloutmixni.safetensors\n",
            "Creating model from config: /content/configs/v1-inference.yaml\n",
            "LatentDiffusion: Running in eps-prediction mode\n",
            "DiffusionWrapper has 859.52 M params.\n",
            "Downloading (…)olve/main/vocab.json: 100% 961k/961k [00:00<00:00, 2.85MB/s]\n",
            "Downloading (…)olve/main/merges.txt: 100% 525k/525k [00:00<00:00, 2.09MB/s]\n",
            "Downloading (…)cial_tokens_map.json: 100% 389/389 [00:00<00:00, 102kB/s]\n",
            "Downloading (…)okenizer_config.json: 100% 905/905 [00:00<00:00, 236kB/s]\n",
            "Downloading (…)lve/main/config.json: 100% 4.52k/4.52k [00:00<00:00, 200kB/s]\n",
            "loading stable diffusion model: RuntimeError\n",
            "Traceback (most recent call last):\n",
            "  File \"/content/webui.py\", line 111, in initialize\n",
            "    modules.sd_models.load_model()\n",
            "  File \"/content/modules/sd_models.py\", line 421, in load_model\n",
            "    sd_hijack.model_hijack.hijack(sd_model)\n",
            "  File \"/content/modules/sd_hijack.py\", line 160, in hijack\n",
            "    self.optimization_method = apply_optimizations()\n",
            "  File \"/content/modules/sd_hijack.py\", line 40, in apply_optimizations\n",
            "    if cmd_opts.force_enable_xformers or (cmd_opts.xformers and shared.xformers_available and torch.version.cuda and (6, 0) <= torch.cuda.get_device_capability(shared.device) <= (9, 0)):\n",
            "  File \"/usr/local/lib/python3.8/dist-packages/torch/cuda/__init__.py\", line 357, in get_device_capability\n",
            "    prop = get_device_properties(device)\n",
            "  File \"/usr/local/lib/python3.8/dist-packages/torch/cuda/__init__.py\", line 371, in get_device_properties\n",
            "    _lazy_init()  # will define _get_device_properties\n",
            "  File \"/usr/local/lib/python3.8/dist-packages/torch/cuda/__init__.py\", line 229, in _lazy_init\n",
            "    torch._C._cuda_init()\n",
            "RuntimeError: No CUDA GPUs are available\n",
            "\n",
            "\n",
            "Stable diffusion model failed to load, exiting\n"
          ]
        }
      ],
      "source": [
        "!pip install --upgrade fastapi==0.90.1\n",
        "!git init && git remote add origin https://github.com/AUTOMATIC1111/stable-diffusion-webui && git fetch --all && git reset --hard origin/master\n",
        "!git clone https://github.com/yfszzx/stable-diffusion-webui-images-browser extensions/stable-diffusion-webui-images-browser\n",
        "\n",
        "# Model(s) setup\n",
        "# Below are model code for ChilloutMix, we always could change it to our desired model (how-to: https://youtu.be/vj-QrS_mWQI or https://youtu.be/MwyfwPFezvY)\n",
        "!mkdir -p models/Stable-diffusion\n",
        "!curl -Lo models/Stable-diffusion/chilloutmixni.safetensors https://huggingface.co/TASUKU2023/Chilloutmix/resolve/main/Chilloutmix.safetensors\n",
        "\n",
        "# Additional embeddings\n",
        "!mkdir -p embeddings\n",
        "!curl -Lo embeddings/ulzzang-6500.pt https://huggingface.co/nolanaatama/chomni/resolve/main/ulzzang-6500.pt\n",
        "\n",
        "!mkdir -p models/Lora\n",
        "!curl -Lo models/Lora/koreanDollLikeness_v10.safetensors https://huggingface.co/nolanaatama/kdllora/resolve/main/kdllora.safetensors\n",
        "\n",
        "!COMMANDLINE_ARGS=\"--share --disable-safe-unpickle --enable-insecure-extension-access\" REQS_FILE=\"requirements.txt\" python launch.py"
      ]
    },
    {
      "cell_type": "markdown",
      "source": [
        "# 2. After the gradio link show up, stop the first cell & clear the code"
      ],
      "metadata": {
        "id": "NcIhh8nD0cYA"
      }
    },
    {
      "cell_type": "markdown",
      "source": [
        "# 3. Launch the web ui"
      ],
      "metadata": {
        "id": "Ixr2503b0rKY"
      }
    },
    {
      "cell_type": "code",
      "source": [
        "!COMMANDLINE_ARGS=\"--share --skip-torch-cuda-test --disable-safe-unpickle --no-half-vae --xformers --reinstall-xformers --enable-insecure-extension-access\" REQS_FILE=\"requirements.txt\" python launch.py"
      ],
      "metadata": {
        "id": "COy2b8ER0qPA"
      },
      "execution_count": null,
      "outputs": []
    }
  ],
  "metadata": {
    "language_info": {
      "name": "python"
    },
    "orig_nbformat": 4,
    "colab": {
      "provenance": []
    },
    "kernelspec": {
      "name": "python3",
      "display_name": "Python 3"
    },
    "gpuClass": "standard"
  },
  "nbformat": 4,
  "nbformat_minor": 0
}